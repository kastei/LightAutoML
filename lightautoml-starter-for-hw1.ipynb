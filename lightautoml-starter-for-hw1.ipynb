{
 "cells": [
  {
   "cell_type": "markdown",
   "id": "482e8642",
   "metadata": {
    "papermill": {
     "duration": 0.007674,
     "end_time": "2023-04-13T11:34:08.579387",
     "exception": false,
     "start_time": "2023-04-13T11:34:08.571713",
     "status": "completed"
    },
    "tags": []
   },
   "source": [
    "# Step 0.0. Install LightAutoML"
   ]
  },
  {
   "cell_type": "code",
   "execution_count": 1,
   "id": "fa623aca",
   "metadata": {
    "_kg_hide-output": true,
    "execution": {
     "iopub.execute_input": "2023-04-13T11:34:08.594755Z",
     "iopub.status.busy": "2023-04-13T11:34:08.594113Z",
     "iopub.status.idle": "2023-04-13T11:35:42.023189Z",
     "shell.execute_reply": "2023-04-13T11:35:42.019958Z"
    },
    "papermill": {
     "duration": 93.445645,
     "end_time": "2023-04-13T11:35:42.031457",
     "exception": false,
     "start_time": "2023-04-13T11:34:08.585812",
     "status": "completed"
    },
    "scrolled": true,
    "tags": []
   },
   "outputs": [
    {
     "name": "stdout",
     "output_type": "stream",
     "text": [
      "Collecting lightautoml\r\n",
      "  Downloading LightAutoML-0.3.7.3-py3-none-any.whl (319 kB)\r\n",
      "\u001b[2K     \u001b[90m━━━━━━━━━━━━━━━━━━━━━━━━━━━━━━━━━━━━━━\u001b[0m \u001b[32m319.6/319.6 kB\u001b[0m \u001b[31m10.3 MB/s\u001b[0m eta \u001b[36m0:00:00\u001b[0m\r\n",
      "\u001b[?25hRequirement already satisfied: networkx in /opt/conda/lib/python3.7/site-packages (from lightautoml) (2.6.3)\r\n",
      "Requirement already satisfied: optuna in /opt/conda/lib/python3.7/site-packages (from lightautoml) (3.1.0)\r\n",
      "Collecting json2html\r\n",
      "  Downloading json2html-1.3.0.tar.gz (7.0 kB)\r\n",
      "  Preparing metadata (setup.py) ... \u001b[?25l-\b \bdone\r\n",
      "\u001b[?25hRequirement already satisfied: joblib in /opt/conda/lib/python3.7/site-packages (from lightautoml) (1.2.0)\r\n",
      "Requirement already satisfied: seaborn in /opt/conda/lib/python3.7/site-packages (from lightautoml) (0.12.2)\r\n",
      "Requirement already satisfied: tqdm in /opt/conda/lib/python3.7/site-packages (from lightautoml) (4.64.1)\r\n",
      "Requirement already satisfied: torchvision in /opt/conda/lib/python3.7/site-packages (from lightautoml) (0.14.0+cpu)\r\n",
      "Collecting torch<1.9\r\n",
      "  Downloading torch-1.8.1-cp37-cp37m-manylinux1_x86_64.whl (804.1 MB)\r\n",
      "\u001b[2K     \u001b[90m━━━━━━━━━━━━━━━━━━━━━━━━━━━━━━━━━━━━━━━\u001b[0m \u001b[32m804.1/804.1 MB\u001b[0m \u001b[31m1.2 MB/s\u001b[0m eta \u001b[36m0:00:00\u001b[0m\r\n",
      "\u001b[?25hCollecting lightgbm<=3.2.1,>=2.3\r\n",
      "  Downloading lightgbm-3.2.1-py3-none-manylinux1_x86_64.whl (2.0 MB)\r\n",
      "\u001b[2K     \u001b[90m━━━━━━━━━━━━━━━━━━━━━━━━━━━━━━━━━━━━━━━━\u001b[0m \u001b[32m2.0/2.0 MB\u001b[0m \u001b[31m63.1 MB/s\u001b[0m eta \u001b[36m0:00:00\u001b[0m\r\n",
      "\u001b[?25hRequirement already satisfied: pyyaml in /opt/conda/lib/python3.7/site-packages (from lightautoml) (6.0)\r\n",
      "Requirement already satisfied: jinja2 in /opt/conda/lib/python3.7/site-packages (from lightautoml) (3.1.2)\r\n",
      "Requirement already satisfied: scikit-learn>=0.22 in /opt/conda/lib/python3.7/site-packages (from lightautoml) (1.0.2)\r\n",
      "Requirement already satisfied: pandas<=1.3.5 in /opt/conda/lib/python3.7/site-packages (from lightautoml) (1.3.5)\r\n",
      "Collecting autowoe>=1.2\r\n",
      "  Downloading AutoWoE-1.3.2-py3-none-any.whl (215 kB)\r\n",
      "\u001b[2K     \u001b[90m━━━━━━━━━━━━━━━━━━━━━━━━━━━━━━━━━━━━━━\u001b[0m \u001b[32m215.7/215.7 kB\u001b[0m \u001b[31m17.9 MB/s\u001b[0m eta \u001b[36m0:00:00\u001b[0m\r\n",
      "\u001b[?25hRequirement already satisfied: catboost>=0.26.1 in /opt/conda/lib/python3.7/site-packages (from lightautoml) (1.1.1)\r\n",
      "Requirement already satisfied: cmaes in /opt/conda/lib/python3.7/site-packages (from lightautoml) (0.9.1)\r\n",
      "Requirement already satisfied: holidays in /opt/conda/lib/python3.7/site-packages (from lightautoml) (0.21.13)\r\n",
      "Collecting poetry-core<2.0.0,>=1.0.0\r\n",
      "  Downloading poetry_core-1.5.2-py3-none-any.whl (465 kB)\r\n",
      "\u001b[2K     \u001b[90m━━━━━━━━━━━━━━━━━━━━━━━━━━━━━━━━━━━━━━\u001b[0m \u001b[32m465.2/465.2 kB\u001b[0m \u001b[31m30.9 MB/s\u001b[0m eta \u001b[36m0:00:00\u001b[0m\r\n",
      "\u001b[?25hCollecting importlib-metadata<2.0,>=1.0\r\n",
      "  Downloading importlib_metadata-1.7.0-py2.py3-none-any.whl (31 kB)\r\n",
      "Collecting StrEnum<0.5.0,>=0.4.7\r\n",
      "  Downloading StrEnum-0.4.10-py3-none-any.whl (7.7 kB)\r\n",
      "Requirement already satisfied: matplotlib in /opt/conda/lib/python3.7/site-packages (from autowoe>=1.2->lightautoml) (3.5.3)\r\n",
      "Requirement already satisfied: pytz in /opt/conda/lib/python3.7/site-packages (from autowoe>=1.2->lightautoml) (2022.7.1)\r\n",
      "Collecting sphinx\r\n",
      "  Downloading sphinx-5.3.0-py3-none-any.whl (3.2 MB)\r\n",
      "\u001b[2K     \u001b[90m━━━━━━━━━━━━━━━━━━━━━━━━━━━━━━━━━━━━━━━━\u001b[0m \u001b[32m3.2/3.2 MB\u001b[0m \u001b[31m61.3 MB/s\u001b[0m eta \u001b[36m0:00:00\u001b[0m\r\n",
      "\u001b[?25hRequirement already satisfied: numpy in /opt/conda/lib/python3.7/site-packages (from autowoe>=1.2->lightautoml) (1.21.6)\r\n",
      "Requirement already satisfied: scipy in /opt/conda/lib/python3.7/site-packages (from autowoe>=1.2->lightautoml) (1.7.3)\r\n",
      "Requirement already satisfied: pytest in /opt/conda/lib/python3.7/site-packages (from autowoe>=1.2->lightautoml) (7.2.2)\r\n",
      "Requirement already satisfied: sphinx-rtd-theme in /opt/conda/lib/python3.7/site-packages (from autowoe>=1.2->lightautoml) (0.2.4)\r\n",
      "Requirement already satisfied: graphviz in /opt/conda/lib/python3.7/site-packages (from catboost>=0.26.1->lightautoml) (0.8.4)\r\n",
      "Requirement already satisfied: six in /opt/conda/lib/python3.7/site-packages (from catboost>=0.26.1->lightautoml) (1.16.0)\r\n",
      "Requirement already satisfied: plotly in /opt/conda/lib/python3.7/site-packages (from catboost>=0.26.1->lightautoml) (5.13.0)\r\n",
      "Requirement already satisfied: zipp>=0.5 in /opt/conda/lib/python3.7/site-packages (from importlib-metadata<2.0,>=1.0->lightautoml) (3.11.0)\r\n",
      "Requirement already satisfied: wheel in /opt/conda/lib/python3.7/site-packages (from lightgbm<=3.2.1,>=2.3->lightautoml) (0.38.4)\r\n",
      "Requirement already satisfied: python-dateutil>=2.7.3 in /opt/conda/lib/python3.7/site-packages (from pandas<=1.3.5->lightautoml) (2.8.2)\r\n",
      "Requirement already satisfied: threadpoolctl>=2.0.0 in /opt/conda/lib/python3.7/site-packages (from scikit-learn>=0.22->lightautoml) (3.1.0)\r\n",
      "Requirement already satisfied: typing-extensions in /opt/conda/lib/python3.7/site-packages (from torch<1.9->lightautoml) (4.4.0)\r\n",
      "Requirement already satisfied: convertdate>=2.3.0 in /opt/conda/lib/python3.7/site-packages (from holidays->lightautoml) (2.4.0)\r\n",
      "Requirement already satisfied: korean-lunar-calendar in /opt/conda/lib/python3.7/site-packages (from holidays->lightautoml) (0.3.1)\r\n",
      "Requirement already satisfied: PyMeeus in /opt/conda/lib/python3.7/site-packages (from holidays->lightautoml) (0.5.12)\r\n",
      "Requirement already satisfied: backports.zoneinfo in /opt/conda/lib/python3.7/site-packages (from holidays->lightautoml) (0.2.1)\r\n",
      "Requirement already satisfied: hijri-converter in /opt/conda/lib/python3.7/site-packages (from holidays->lightautoml) (2.2.4)\r\n",
      "Requirement already satisfied: MarkupSafe>=2.0 in /opt/conda/lib/python3.7/site-packages (from jinja2->lightautoml) (2.1.1)\r\n",
      "Requirement already satisfied: colorlog in /opt/conda/lib/python3.7/site-packages (from optuna->lightautoml) (6.7.0)\r\n",
      "Requirement already satisfied: alembic>=1.5.0 in /opt/conda/lib/python3.7/site-packages (from optuna->lightautoml) (1.10.2)\r\n",
      "Requirement already satisfied: sqlalchemy>=1.3.0 in /opt/conda/lib/python3.7/site-packages (from optuna->lightautoml) (1.4.46)\r\n",
      "Requirement already satisfied: packaging>=20.0 in /opt/conda/lib/python3.7/site-packages (from optuna->lightautoml) (23.0)\r\n",
      "Requirement already satisfied: pillow!=8.3.*,>=5.3.0 in /opt/conda/lib/python3.7/site-packages (from torchvision->lightautoml) (9.4.0)\r\n",
      "Collecting torchvision\r\n",
      "  Downloading torchvision-0.14.1-cp37-cp37m-manylinux1_x86_64.whl (24.2 MB)\r\n",
      "\u001b[2K     \u001b[90m━━━━━━━━━━━━━━━━━━━━━━━━━━━━━━━━━━━━━━━━\u001b[0m \u001b[32m24.2/24.2 MB\u001b[0m \u001b[31m41.8 MB/s\u001b[0m eta \u001b[36m0:00:00\u001b[0m\r\n",
      "\u001b[?25h  Downloading torchvision-0.14.0-cp37-cp37m-manylinux1_x86_64.whl (24.3 MB)\r\n",
      "\u001b[2K     \u001b[90m━━━━━━━━━━━━━━━━━━━━━━━━━━━━━━━━━━━━━━━━\u001b[0m \u001b[32m24.3/24.3 MB\u001b[0m \u001b[31m42.3 MB/s\u001b[0m eta \u001b[36m0:00:00\u001b[0m\r\n",
      "\u001b[?25h  Downloading torchvision-0.13.1-cp37-cp37m-manylinux1_x86_64.whl (19.1 MB)\r\n",
      "\u001b[2K     \u001b[90m━━━━━━━━━━━━━━━━━━━━━━━━━━━━━━━━━━━━━━━━\u001b[0m \u001b[32m19.1/19.1 MB\u001b[0m \u001b[31m56.7 MB/s\u001b[0m eta \u001b[36m0:00:00\u001b[0m\r\n",
      "\u001b[?25h  Downloading torchvision-0.13.0-cp37-cp37m-manylinux1_x86_64.whl (19.1 MB)\r\n",
      "\u001b[2K     \u001b[90m━━━━━━━━━━━━━━━━━━━━━━━━━━━━━━━━━━━━━━━━\u001b[0m \u001b[32m19.1/19.1 MB\u001b[0m \u001b[31m64.3 MB/s\u001b[0m eta \u001b[36m0:00:00\u001b[0m\r\n",
      "\u001b[?25h  Downloading torchvision-0.12.0-cp37-cp37m-manylinux1_x86_64.whl (21.0 MB)\r\n",
      "\u001b[2K     \u001b[90m━━━━━━━━━━━━━━━━━━━━━━━━━━━━━━━━━━━━━━━━\u001b[0m \u001b[32m21.0/21.0 MB\u001b[0m \u001b[31m60.0 MB/s\u001b[0m eta \u001b[36m0:00:00\u001b[0m\r\n",
      "\u001b[?25h  Downloading torchvision-0.11.3-cp37-cp37m-manylinux1_x86_64.whl (23.2 MB)\r\n",
      "\u001b[2K     \u001b[90m━━━━━━━━━━━━━━━━━━━━━━━━━━━━━━━━━━━━━━━━\u001b[0m \u001b[32m23.2/23.2 MB\u001b[0m \u001b[31m56.8 MB/s\u001b[0m eta \u001b[36m0:00:00\u001b[0m\r\n",
      "\u001b[?25h  Downloading torchvision-0.11.2-cp37-cp37m-manylinux1_x86_64.whl (23.3 MB)\r\n",
      "\u001b[2K     \u001b[90m━━━━━━━━━━━━━━━━━━━━━━━━━━━━━━━━━━━━━━━━\u001b[0m \u001b[32m23.3/23.3 MB\u001b[0m \u001b[31m56.6 MB/s\u001b[0m eta \u001b[36m0:00:00\u001b[0m\r\n",
      "\u001b[?25h  Downloading torchvision-0.11.1-cp37-cp37m-manylinux1_x86_64.whl (23.3 MB)\r\n",
      "\u001b[2K     \u001b[90m━━━━━━━━━━━━━━━━━━━━━━━━━━━━━━━━━━━━━━━━\u001b[0m \u001b[32m23.3/23.3 MB\u001b[0m \u001b[31m54.4 MB/s\u001b[0m eta \u001b[36m0:00:00\u001b[0m\r\n",
      "\u001b[?25h  Downloading torchvision-0.10.1-cp37-cp37m-manylinux1_x86_64.whl (22.1 MB)\r\n",
      "\u001b[2K     \u001b[90m━━━━━━━━━━━━━━━━━━━━━━━━━━━━━━━━━━━━━━━━\u001b[0m \u001b[32m22.1/22.1 MB\u001b[0m \u001b[31m55.9 MB/s\u001b[0m eta \u001b[36m0:00:00\u001b[0m\r\n",
      "\u001b[?25h  Downloading torchvision-0.10.0-cp37-cp37m-manylinux1_x86_64.whl (22.1 MB)\r\n",
      "\u001b[2K     \u001b[90m━━━━━━━━━━━━━━━━━━━━━━━━━━━━━━━━━━━━━━━━\u001b[0m \u001b[32m22.1/22.1 MB\u001b[0m \u001b[31m52.5 MB/s\u001b[0m eta \u001b[36m0:00:00\u001b[0m\r\n",
      "\u001b[?25h  Downloading torchvision-0.9.1-cp37-cp37m-manylinux1_x86_64.whl (17.4 MB)\r\n",
      "\u001b[2K     \u001b[90m━━━━━━━━━━━━━━━━━━━━━━━━━━━━━━━━━━━━━━━━\u001b[0m \u001b[32m17.4/17.4 MB\u001b[0m \u001b[31m65.7 MB/s\u001b[0m eta \u001b[36m0:00:00\u001b[0m\r\n",
      "\u001b[?25hRequirement already satisfied: importlib-resources in /opt/conda/lib/python3.7/site-packages (from alembic>=1.5.0->optuna->lightautoml) (5.10.2)\r\n",
      "Requirement already satisfied: Mako in /opt/conda/lib/python3.7/site-packages (from alembic>=1.5.0->optuna->lightautoml) (1.2.4)\r\n",
      "Requirement already satisfied: kiwisolver>=1.0.1 in /opt/conda/lib/python3.7/site-packages (from matplotlib->autowoe>=1.2->lightautoml) (1.4.4)\r\n",
      "Requirement already satisfied: pyparsing>=2.2.1 in /opt/conda/lib/python3.7/site-packages (from matplotlib->autowoe>=1.2->lightautoml) (3.0.9)\r\n",
      "Requirement already satisfied: cycler>=0.10 in /opt/conda/lib/python3.7/site-packages (from matplotlib->autowoe>=1.2->lightautoml) (0.11.0)\r\n",
      "Requirement already satisfied: fonttools>=4.22.0 in /opt/conda/lib/python3.7/site-packages (from matplotlib->autowoe>=1.2->lightautoml) (4.38.0)\r\n",
      "Requirement already satisfied: greenlet!=0.4.17 in /opt/conda/lib/python3.7/site-packages (from sqlalchemy>=1.3.0->optuna->lightautoml) (2.0.1)\r\n",
      "Requirement already satisfied: tenacity>=6.2.0 in /opt/conda/lib/python3.7/site-packages (from plotly->catboost>=0.26.1->lightautoml) (8.1.0)\r\n",
      "Requirement already satisfied: pluggy<2.0,>=0.12 in /opt/conda/lib/python3.7/site-packages (from pytest->autowoe>=1.2->lightautoml) (1.0.0)\r\n",
      "Requirement already satisfied: tomli>=1.0.0 in /opt/conda/lib/python3.7/site-packages (from pytest->autowoe>=1.2->lightautoml) (2.0.1)\r\n",
      "Requirement already satisfied: exceptiongroup>=1.0.0rc8 in /opt/conda/lib/python3.7/site-packages (from pytest->autowoe>=1.2->lightautoml) (1.1.1)\r\n",
      "Requirement already satisfied: iniconfig in /opt/conda/lib/python3.7/site-packages (from pytest->autowoe>=1.2->lightautoml) (2.0.0)\r\n",
      "Requirement already satisfied: attrs>=19.2.0 in /opt/conda/lib/python3.7/site-packages (from pytest->autowoe>=1.2->lightautoml) (22.2.0)\r\n",
      "Requirement already satisfied: Pygments>=2.12 in /opt/conda/lib/python3.7/site-packages (from sphinx->autowoe>=1.2->lightautoml) (2.14.0)\r\n",
      "Requirement already satisfied: docutils<0.20,>=0.14 in /opt/conda/lib/python3.7/site-packages (from sphinx->autowoe>=1.2->lightautoml) (0.19)\r\n",
      "Requirement already satisfied: requests>=2.5.0 in /opt/conda/lib/python3.7/site-packages (from sphinx->autowoe>=1.2->lightautoml) (2.28.2)\r\n",
      "Collecting sphinxcontrib-devhelp\r\n",
      "  Downloading sphinxcontrib_devhelp-1.0.2-py2.py3-none-any.whl (84 kB)\r\n",
      "\u001b[2K     \u001b[90m━━━━━━━━━━━━━━━━━━━━━━━━━━━━━━━━━━━━━━━━\u001b[0m \u001b[32m84.7/84.7 kB\u001b[0m \u001b[31m6.9 MB/s\u001b[0m eta \u001b[36m0:00:00\u001b[0m\r\n",
      "\u001b[?25hCollecting imagesize>=1.3\r\n",
      "  Downloading imagesize-1.4.1-py2.py3-none-any.whl (8.8 kB)\r\n",
      "Collecting sphinxcontrib-qthelp\r\n",
      "  Downloading sphinxcontrib_qthelp-1.0.3-py2.py3-none-any.whl (90 kB)\r\n",
      "\u001b[2K     \u001b[90m━━━━━━━━━━━━━━━━━━━━━━━━━━━━━━━━━━━━━━━━\u001b[0m \u001b[32m90.6/90.6 kB\u001b[0m \u001b[31m8.2 MB/s\u001b[0m eta \u001b[36m0:00:00\u001b[0m\r\n",
      "\u001b[?25hRequirement already satisfied: snowballstemmer>=2.0 in /opt/conda/lib/python3.7/site-packages (from sphinx->autowoe>=1.2->lightautoml) (2.2.0)\r\n",
      "Collecting sphinxcontrib-applehelp\r\n",
      "  Downloading sphinxcontrib_applehelp-1.0.2-py2.py3-none-any.whl (121 kB)\r\n",
      "\u001b[2K     \u001b[90m━━━━━━━━━━━━━━━━━━━━━━━━━━━━━━━━━━━━━━\u001b[0m \u001b[32m121.2/121.2 kB\u001b[0m \u001b[31m10.4 MB/s\u001b[0m eta \u001b[36m0:00:00\u001b[0m\r\n",
      "\u001b[?25hRequirement already satisfied: babel>=2.9 in /opt/conda/lib/python3.7/site-packages (from sphinx->autowoe>=1.2->lightautoml) (2.11.0)\r\n",
      "Collecting sphinxcontrib-serializinghtml>=1.1.5\r\n",
      "  Downloading sphinxcontrib_serializinghtml-1.1.5-py2.py3-none-any.whl (94 kB)\r\n",
      "\u001b[2K     \u001b[90m━━━━━━━━━━━━━━━━━━━━━━━━━━━━━━━━━━━━━━━━\u001b[0m \u001b[32m94.0/94.0 kB\u001b[0m \u001b[31m9.0 MB/s\u001b[0m eta \u001b[36m0:00:00\u001b[0m\r\n",
      "\u001b[?25hCollecting sphinxcontrib-jsmath\r\n",
      "  Downloading sphinxcontrib_jsmath-1.0.1-py2.py3-none-any.whl (5.1 kB)\r\n",
      "Collecting alabaster<0.8,>=0.7\r\n",
      "  Downloading alabaster-0.7.13-py3-none-any.whl (13 kB)\r\n",
      "Collecting sphinx\r\n",
      "  Downloading sphinx-5.2.3-py3-none-any.whl (3.2 MB)\r\n",
      "\u001b[2K     \u001b[90m━━━━━━━━━━━━━━━━━━━━━━━━━━━━━━━━━━━━━━━━\u001b[0m \u001b[32m3.2/3.2 MB\u001b[0m \u001b[31m59.4 MB/s\u001b[0m eta \u001b[36m0:00:00\u001b[0m\r\n",
      "\u001b[?25h  Downloading sphinx-5.2.2-py3-none-any.whl (3.2 MB)\r\n",
      "\u001b[2K     \u001b[90m━━━━━━━━━━━━━━━━━━━━━━━━━━━━━━━━━━━━━━━━\u001b[0m \u001b[32m3.2/3.2 MB\u001b[0m \u001b[31m74.0 MB/s\u001b[0m eta \u001b[36m0:00:00\u001b[0m\r\n",
      "\u001b[?25h  Downloading sphinx-5.2.1-py3-none-any.whl (3.2 MB)\r\n",
      "\u001b[2K     \u001b[90m━━━━━━━━━━━━━━━━━━━━━━━━━━━━━━━━━━━━━━━━\u001b[0m \u001b[32m3.2/3.2 MB\u001b[0m \u001b[31m70.9 MB/s\u001b[0m eta \u001b[36m0:00:00\u001b[0m\r\n",
      "\u001b[?25h  Downloading sphinx-5.2.0.post0-py3-none-any.whl (3.2 MB)\r\n",
      "\u001b[2K     \u001b[90m━━━━━━━━━━━━━━━━━━━━━━━━━━━━━━━━━━━━━━━━\u001b[0m \u001b[32m3.2/3.2 MB\u001b[0m \u001b[31m77.4 MB/s\u001b[0m eta \u001b[36m0:00:00\u001b[0m\r\n",
      "\u001b[?25h  Downloading sphinx-5.2.0-py3-none-any.whl (3.2 MB)\r\n",
      "\u001b[2K     \u001b[90m━━━━━━━━━━━━━━━━━━━━━━━━━━━━━━━━━━━━━━━━\u001b[0m \u001b[32m3.2/3.2 MB\u001b[0m \u001b[31m75.8 MB/s\u001b[0m eta \u001b[36m0:00:00\u001b[0m\r\n",
      "\u001b[?25h  Downloading Sphinx-5.1.1-py3-none-any.whl (3.2 MB)\r\n",
      "\u001b[2K     \u001b[90m━━━━━━━━━━━━━━━━━━━━━━━━━━━━━━━━━━━━━━━━\u001b[0m \u001b[32m3.2/3.2 MB\u001b[0m \u001b[31m71.9 MB/s\u001b[0m eta \u001b[36m0:00:00\u001b[0m\r\n",
      "\u001b[?25h  Downloading Sphinx-5.1.0-py3-none-any.whl (3.2 MB)\r\n",
      "\u001b[2K     \u001b[90m━━━━━━━━━━━━━━━━━━━━━━━━━━━━━━━━━━━━━━━━\u001b[0m \u001b[32m3.2/3.2 MB\u001b[0m \u001b[31m76.3 MB/s\u001b[0m eta \u001b[36m0:00:00\u001b[0m\r\n",
      "\u001b[?25h  Downloading Sphinx-5.0.2-py3-none-any.whl (3.1 MB)\r\n",
      "\u001b[2K     \u001b[90m━━━━━━━━━━━━━━━━━━━━━━━━━━━━━━━━━━━━━━━━\u001b[0m \u001b[32m3.1/3.1 MB\u001b[0m \u001b[31m73.0 MB/s\u001b[0m eta \u001b[36m0:00:00\u001b[0m\r\n",
      "\u001b[?25hCollecting docutils<0.19,>=0.14\r\n",
      "  Downloading docutils-0.18.1-py2.py3-none-any.whl (570 kB)\r\n",
      "\u001b[2K     \u001b[90m━━━━━━━━━━━━━━━━━━━━━━━━━━━━━━━━━━━━━━\u001b[0m \u001b[32m570.0/570.0 kB\u001b[0m \u001b[31m37.0 MB/s\u001b[0m eta \u001b[36m0:00:00\u001b[0m\r\n",
      "\u001b[?25hCollecting sphinx\r\n",
      "  Downloading Sphinx-5.0.1-py3-none-any.whl (3.1 MB)\r\n",
      "\u001b[2K     \u001b[90m━━━━━━━━━━━━━━━━━━━━━━━━━━━━━━━━━━━━━━━━\u001b[0m \u001b[32m3.1/3.1 MB\u001b[0m \u001b[31m54.1 MB/s\u001b[0m eta \u001b[36m0:00:00\u001b[0m\r\n",
      "\u001b[?25h  Downloading Sphinx-5.0.0-py3-none-any.whl (3.1 MB)\r\n",
      "\u001b[2K     \u001b[90m━━━━━━━━━━━━━━━━━━━━━━━━━━━━━━━━━━━━━━━━\u001b[0m \u001b[32m3.1/3.1 MB\u001b[0m \u001b[31m70.6 MB/s\u001b[0m eta \u001b[36m0:00:00\u001b[0m\r\n",
      "\u001b[?25h  Downloading Sphinx-4.5.0-py3-none-any.whl (3.1 MB)\r\n",
      "\u001b[2K     \u001b[90m━━━━━━━━━━━━━━━━━━━━━━━━━━━━━━━━━━━━━━━━\u001b[0m \u001b[32m3.1/3.1 MB\u001b[0m \u001b[31m65.7 MB/s\u001b[0m eta \u001b[36m0:00:00\u001b[0m\r\n",
      "\u001b[?25hCollecting docutils<0.18,>=0.14\r\n",
      "  Downloading docutils-0.17.1-py2.py3-none-any.whl (575 kB)\r\n",
      "\u001b[2K     \u001b[90m━━━━━━━━━━━━━━━━━━━━━━━━━━━━━━━━━━━━━━\u001b[0m \u001b[32m575.5/575.5 kB\u001b[0m \u001b[31m34.2 MB/s\u001b[0m eta \u001b[36m0:00:00\u001b[0m\r\n",
      "\u001b[?25hCollecting sphinx\r\n",
      "  Downloading Sphinx-4.4.0-py3-none-any.whl (3.1 MB)\r\n",
      "\u001b[2K     \u001b[90m━━━━━━━━━━━━━━━━━━━━━━━━━━━━━━━━━━━━━━━━\u001b[0m \u001b[32m3.1/3.1 MB\u001b[0m \u001b[31m70.2 MB/s\u001b[0m eta \u001b[36m0:00:00\u001b[0m\r\n",
      "\u001b[?25h  Downloading Sphinx-4.3.2-py3-none-any.whl (3.1 MB)\r\n",
      "\u001b[2K     \u001b[90m━━━━━━━━━━━━━━━━━━━━━━━━━━━━━━━━━━━━━━━━\u001b[0m \u001b[32m3.1/3.1 MB\u001b[0m \u001b[31m71.4 MB/s\u001b[0m eta \u001b[36m0:00:00\u001b[0m\r\n",
      "\u001b[?25hRequirement already satisfied: setuptools in /opt/conda/lib/python3.7/site-packages (from sphinx->autowoe>=1.2->lightautoml) (59.8.0)\r\n",
      "Collecting sphinxcontrib-htmlhelp>=2.0.0\r\n",
      "  Downloading sphinxcontrib_htmlhelp-2.0.0-py2.py3-none-any.whl (100 kB)\r\n",
      "\u001b[2K     \u001b[90m━━━━━━━━━━━━━━━━━━━━━━━━━━━━━━━━━━━━━━━\u001b[0m \u001b[32m100.5/100.5 kB\u001b[0m \u001b[31m7.7 MB/s\u001b[0m eta \u001b[36m0:00:00\u001b[0m\r\n",
      "\u001b[?25hRequirement already satisfied: charset-normalizer<4,>=2 in /opt/conda/lib/python3.7/site-packages (from requests>=2.5.0->sphinx->autowoe>=1.2->lightautoml) (2.1.1)\r\n",
      "Requirement already satisfied: urllib3<1.27,>=1.21.1 in /opt/conda/lib/python3.7/site-packages (from requests>=2.5.0->sphinx->autowoe>=1.2->lightautoml) (1.26.14)\r\n",
      "Requirement already satisfied: idna<4,>=2.5 in /opt/conda/lib/python3.7/site-packages (from requests>=2.5.0->sphinx->autowoe>=1.2->lightautoml) (3.4)\r\n",
      "Requirement already satisfied: certifi>=2017.4.17 in /opt/conda/lib/python3.7/site-packages (from requests>=2.5.0->sphinx->autowoe>=1.2->lightautoml) (2022.12.7)\r\n",
      "Building wheels for collected packages: json2html\r\n",
      "  Building wheel for json2html (setup.py) ... \u001b[?25l-\b \b\\\b \bdone\r\n",
      "\u001b[?25h  Created wheel for json2html: filename=json2html-1.3.0-py3-none-any.whl size=7609 sha256=d1b9201d579198262cdffec85f9e2ab1cae8f0ffec5ed21f667b870fc4e4a47c\r\n",
      "  Stored in directory: /root/.cache/pip/wheels/aa/c7/54/3a8ad0d44f4319059c500a8b0aff6a199df89ef86b09dcdd9f\r\n",
      "Successfully built json2html\r\n",
      "Installing collected packages: StrEnum, json2html, torch, sphinxcontrib-serializinghtml, sphinxcontrib-qthelp, sphinxcontrib-jsmath, sphinxcontrib-htmlhelp, sphinxcontrib-devhelp, sphinxcontrib-applehelp, importlib-metadata, imagesize, docutils, alabaster, torchvision, sphinx, poetry-core, lightgbm, autowoe, lightautoml\r\n",
      "  Attempting uninstall: torch\r\n",
      "    Found existing installation: torch 1.13.0+cpu\r\n",
      "    Uninstalling torch-1.13.0+cpu:\r\n",
      "      Successfully uninstalled torch-1.13.0+cpu\r\n",
      "  Attempting uninstall: importlib-metadata\r\n",
      "    Found existing installation: importlib-metadata 4.11.4\r\n",
      "    Uninstalling importlib-metadata-4.11.4:\r\n",
      "      Successfully uninstalled importlib-metadata-4.11.4\r\n",
      "  Attempting uninstall: docutils\r\n",
      "    Found existing installation: docutils 0.19\r\n",
      "    Uninstalling docutils-0.19:\r\n",
      "      Successfully uninstalled docutils-0.19\r\n",
      "  Attempting uninstall: torchvision\r\n",
      "    Found existing installation: torchvision 0.14.0+cpu\r\n",
      "    Uninstalling torchvision-0.14.0+cpu:\r\n",
      "      Successfully uninstalled torchvision-0.14.0+cpu\r\n",
      "  Attempting uninstall: lightgbm\r\n",
      "    Found existing installation: lightgbm 3.3.2\r\n",
      "    Uninstalling lightgbm-3.3.2:\r\n",
      "      Successfully uninstalled lightgbm-3.3.2\r\n",
      "\u001b[31mERROR: pip's dependency resolver does not currently take into account all the packages that are installed. This behaviour is the source of the following dependency conflicts.\r\n",
      "virtualenv 20.17.1 requires importlib-metadata>=4.8.3; python_version < \"3.8\", but you have importlib-metadata 1.7.0 which is incompatible.\r\n",
      "torchtext 0.14.0 requires torch==1.13.0, but you have torch 1.8.1 which is incompatible.\r\n",
      "torchaudio 0.13.0+cpu requires torch==1.13.0, but you have torch 1.8.1 which is incompatible.\r\n",
      "pytorch-lightning 1.9.4 requires torch>=1.10.0, but you have torch 1.8.1 which is incompatible.\r\n",
      "pynndescent 0.5.8 requires importlib-metadata>=4.8.1; python_version < \"3.8\", but you have importlib-metadata 1.7.0 which is incompatible.\r\n",
      "pydocstyle 6.3.0 requires importlib-metadata<5.0.0,>=2.0.0; python_version < \"3.8\", but you have importlib-metadata 1.7.0 which is incompatible.\r\n",
      "nbformat 5.7.3 requires importlib-metadata>=3.6; python_version < \"3.8\", but you have importlib-metadata 1.7.0 which is incompatible.\r\n",
      "markdown 3.4.1 requires importlib-metadata>=4.4; python_version < \"3.10\", but you have importlib-metadata 1.7.0 which is incompatible.\r\n",
      "lightning-utilities 0.8.0 requires importlib-metadata>=4.0.0; python_version < \"3.8\", but you have importlib-metadata 1.7.0 which is incompatible.\r\n",
      "librosa 0.10.0.post2 requires soundfile>=0.12.1, but you have soundfile 0.11.0 which is incompatible.\r\n",
      "kornia 0.6.11 requires torch>=1.9.1, but you have torch 1.8.1 which is incompatible.\r\n",
      "jupyterlab-server 2.15.2 requires importlib-metadata>=3.6; python_version < \"3.10\", but you have importlib-metadata 1.7.0 which is incompatible.\r\n",
      "ibis-framework 2.1.1 requires importlib-metadata<5,>=4; python_version < \"3.8\", but you have importlib-metadata 1.7.0 which is incompatible.\r\n",
      "gym 0.23.1 requires importlib-metadata>=4.10.0; python_version < \"3.10\", but you have importlib-metadata 1.7.0 which is incompatible.\r\n",
      "flask 2.2.3 requires importlib-metadata>=3.6.0; python_version < \"3.10\", but you have importlib-metadata 1.7.0 which is incompatible.\r\n",
      "cmudict 1.0.13 requires importlib-metadata<6.0.0,>=5.1.0, but you have importlib-metadata 1.7.0 which is incompatible.\u001b[0m\u001b[31m\r\n",
      "\u001b[0mSuccessfully installed StrEnum-0.4.10 alabaster-0.7.13 autowoe-1.3.2 docutils-0.17.1 imagesize-1.4.1 importlib-metadata-4.2.0 json2html-1.3.0 lightautoml-0.3.7.3 lightgbm-3.2.1 poetry-core-1.5.2 sphinx-4.3.2 sphinxcontrib-applehelp-1.0.2 sphinxcontrib-devhelp-1.0.2 sphinxcontrib-htmlhelp-2.0.0 sphinxcontrib-jsmath-1.0.1 sphinxcontrib-qthelp-1.0.3 sphinxcontrib-serializinghtml-1.1.5 torch-1.8.1 torchvision-0.9.1\r\n",
      "\u001b[33mWARNING: Running pip as the 'root' user can result in broken permissions and conflicting behaviour with the system package manager. It is recommended to use a virtual environment instead: https://pip.pypa.io/warnings/venv\u001b[0m\u001b[33m\r\n",
      "\u001b[0m"
     ]
    }
   ],
   "source": [
    "!pip install -U lightautoml"
   ]
  },
  {
   "cell_type": "markdown",
   "id": "385f6c7b",
   "metadata": {
    "papermill": {
     "duration": 0.059253,
     "end_time": "2023-04-13T11:35:42.137718",
     "exception": false,
     "start_time": "2023-04-13T11:35:42.078465",
     "status": "completed"
    },
    "tags": []
   },
   "source": [
    "# Step 0.1. Import necessary libraries "
   ]
  },
  {
   "cell_type": "code",
   "execution_count": 2,
   "id": "24554a08",
   "metadata": {
    "execution": {
     "iopub.execute_input": "2023-04-13T11:35:42.227768Z",
     "iopub.status.busy": "2023-04-13T11:35:42.226924Z",
     "iopub.status.idle": "2023-04-13T11:35:48.636181Z",
     "shell.execute_reply": "2023-04-13T11:35:48.634684Z"
    },
    "papermill": {
     "duration": 6.454013,
     "end_time": "2023-04-13T11:35:48.639986",
     "exception": false,
     "start_time": "2023-04-13T11:35:42.185973",
     "status": "completed"
    },
    "tags": []
   },
   "outputs": [
    {
     "data": {
      "text/html": [
       "<style type='text/css'>\n",
       ".datatable table.frame { margin-bottom: 0; }\n",
       ".datatable table.frame thead { border-bottom: none; }\n",
       ".datatable table.frame tr.coltypes td {  color: #FFFFFF;  line-height: 6px;  padding: 0 0.5em;}\n",
       ".datatable .bool    { background: #DDDD99; }\n",
       ".datatable .object  { background: #565656; }\n",
       ".datatable .int     { background: #5D9E5D; }\n",
       ".datatable .float   { background: #4040CC; }\n",
       ".datatable .str     { background: #CC4040; }\n",
       ".datatable .time    { background: #40CC40; }\n",
       ".datatable .row_index {  background: var(--jp-border-color3);  border-right: 1px solid var(--jp-border-color0);  color: var(--jp-ui-font-color3);  font-size: 9px;}\n",
       ".datatable .frame tbody td { text-align: left; }\n",
       ".datatable .frame tr.coltypes .row_index {  background: var(--jp-border-color0);}\n",
       ".datatable th:nth-child(2) { padding-left: 12px; }\n",
       ".datatable .hellipsis {  color: var(--jp-cell-editor-border-color);}\n",
       ".datatable .vellipsis {  background: var(--jp-layout-color0);  color: var(--jp-cell-editor-border-color);}\n",
       ".datatable .na {  color: var(--jp-cell-editor-border-color);  font-size: 80%;}\n",
       ".datatable .sp {  opacity: 0.25;}\n",
       ".datatable .footer { font-size: 9px; }\n",
       ".datatable .frame_dimensions {  background: var(--jp-border-color3);  border-top: 1px solid var(--jp-border-color0);  color: var(--jp-ui-font-color3);  display: inline-block;  opacity: 0.6;  padding: 1px 10px 1px 5px;}\n",
       "</style>\n"
      ],
      "text/plain": [
       "<IPython.core.display.HTML object>"
      ]
     },
     "metadata": {},
     "output_type": "display_data"
    }
   ],
   "source": [
    "# Standard python libraries\n",
    "import logging\n",
    "import os\n",
    "import time\n",
    "import requests\n",
    "logging.basicConfig(format='[%(asctime)s] (%(levelname)s): %(message)s', level=logging.INFO)\n",
    "\n",
    "# repair logger in Kaggle\n",
    "for handler in logging.root.handlers[:]:\n",
    "    logging.root.removeHandler(handler)\n",
    "    \n",
    "# Installed libraries\n",
    "import numpy as np\n",
    "import pandas as pd\n",
    "from sklearn.metrics import mean_absolute_error\n",
    "from sklearn.model_selection import train_test_split\n",
    "import torch\n",
    "\n",
    "# Imports from our package\n",
    "from lightautoml.automl.presets.tabular_presets import TabularAutoML, TabularUtilizedAutoML\n",
    "from lightautoml.tasks import Task"
   ]
  },
  {
   "cell_type": "markdown",
   "id": "a7c9cb96",
   "metadata": {
    "papermill": {
     "duration": 0.033254,
     "end_time": "2023-04-13T11:35:48.709890",
     "exception": false,
     "start_time": "2023-04-13T11:35:48.676636",
     "status": "completed"
    },
    "tags": []
   },
   "source": [
    "# Step 0.2. Parameters "
   ]
  },
  {
   "cell_type": "code",
   "execution_count": 3,
   "id": "cc922c4c",
   "metadata": {
    "execution": {
     "iopub.execute_input": "2023-04-13T11:35:48.778255Z",
     "iopub.status.busy": "2023-04-13T11:35:48.777772Z",
     "iopub.status.idle": "2023-04-13T11:35:48.784488Z",
     "shell.execute_reply": "2023-04-13T11:35:48.783053Z"
    },
    "papermill": {
     "duration": 0.044188,
     "end_time": "2023-04-13T11:35:48.787083",
     "exception": false,
     "start_time": "2023-04-13T11:35:48.742895",
     "status": "completed"
    },
    "tags": []
   },
   "outputs": [],
   "source": [
    "N_THREADS = 4 # threads cnt for lgbm and linear models\n",
    "N_FOLDS = 5 # folds cnt for AutoML\n",
    "RANDOM_STATE = 42 # fixed random state for various reasons\n",
    "TEST_SIZE = 0.2 # Test size for metric check\n",
    "TIMEOUT = 600 # Time in seconds for automl run\n",
    "TARGET_NAME = 'final_price' # Target column name"
   ]
  },
  {
   "cell_type": "markdown",
   "id": "d909efba",
   "metadata": {
    "papermill": {
     "duration": 0.034092,
     "end_time": "2023-04-13T11:35:48.854812",
     "exception": false,
     "start_time": "2023-04-13T11:35:48.820720",
     "status": "completed"
    },
    "tags": []
   },
   "source": [
    "# Step 0.3. Data load "
   ]
  },
  {
   "cell_type": "code",
   "execution_count": 4,
   "id": "55add314",
   "metadata": {
    "execution": {
     "iopub.execute_input": "2023-04-13T11:35:48.927099Z",
     "iopub.status.busy": "2023-04-13T11:35:48.926196Z",
     "iopub.status.idle": "2023-04-13T11:35:49.211706Z",
     "shell.execute_reply": "2023-04-13T11:35:49.210062Z"
    },
    "papermill": {
     "duration": 0.32686,
     "end_time": "2023-04-13T11:35:49.215886",
     "exception": false,
     "start_time": "2023-04-13T11:35:48.889026",
     "status": "completed"
    },
    "tags": []
   },
   "outputs": [
    {
     "name": "stdout",
     "output_type": "stream",
     "text": [
      "CPU times: user 109 ms, sys: 53.5 ms, total: 162 ms\n",
      "Wall time: 243 ms\n"
     ]
    },
    {
     "data": {
      "text/html": [
       "<div>\n",
       "<style scoped>\n",
       "    .dataframe tbody tr th:only-of-type {\n",
       "        vertical-align: middle;\n",
       "    }\n",
       "\n",
       "    .dataframe tbody tr th {\n",
       "        vertical-align: top;\n",
       "    }\n",
       "\n",
       "    .dataframe thead th {\n",
       "        text-align: right;\n",
       "    }\n",
       "</style>\n",
       "<table border=\"1\" class=\"dataframe\">\n",
       "  <thead>\n",
       "    <tr style=\"text-align: right;\">\n",
       "      <th></th>\n",
       "      <th>row_ID</th>\n",
       "      <th>vehicle_manufacturer</th>\n",
       "      <th>vehicle_model</th>\n",
       "      <th>vehicle_category</th>\n",
       "      <th>current_mileage</th>\n",
       "      <th>vehicle_year</th>\n",
       "      <th>vehicle_gearbox_type</th>\n",
       "      <th>doors_cnt</th>\n",
       "      <th>wheels</th>\n",
       "      <th>vehicle_color</th>\n",
       "      <th>vehicle_interior_color</th>\n",
       "      <th>car_vin</th>\n",
       "      <th>car_leather_interior</th>\n",
       "      <th>deal_type</th>\n",
       "      <th>final_price</th>\n",
       "    </tr>\n",
       "  </thead>\n",
       "  <tbody>\n",
       "    <tr>\n",
       "      <th>0</th>\n",
       "      <td>0</td>\n",
       "      <td>TOYOTA</td>\n",
       "      <td>Aqua s</td>\n",
       "      <td>Sedan</td>\n",
       "      <td>133000</td>\n",
       "      <td>2014</td>\n",
       "      <td>Automatic</td>\n",
       "      <td>4/5</td>\n",
       "      <td>Right-hand drive</td>\n",
       "      <td>Silver</td>\n",
       "      <td>Black</td>\n",
       "      <td>NaN</td>\n",
       "      <td>0</td>\n",
       "      <td>For Sale</td>\n",
       "      <td>3650.0</td>\n",
       "    </tr>\n",
       "    <tr>\n",
       "      <th>1</th>\n",
       "      <td>1</td>\n",
       "      <td>MERCEDES-BENZ</td>\n",
       "      <td>C 220</td>\n",
       "      <td>Sedan</td>\n",
       "      <td>24500</td>\n",
       "      <td>2010</td>\n",
       "      <td>Manual</td>\n",
       "      <td>4/5</td>\n",
       "      <td>Left wheel</td>\n",
       "      <td>Silver</td>\n",
       "      <td>Black</td>\n",
       "      <td>NaN</td>\n",
       "      <td>0</td>\n",
       "      <td>For Sale</td>\n",
       "      <td>6800.0</td>\n",
       "    </tr>\n",
       "    <tr>\n",
       "      <th>2</th>\n",
       "      <td>2</td>\n",
       "      <td>HYUNDAI</td>\n",
       "      <td>Veloster</td>\n",
       "      <td>Hatchback</td>\n",
       "      <td>31000</td>\n",
       "      <td>2016</td>\n",
       "      <td>Tiptronic</td>\n",
       "      <td>2/3</td>\n",
       "      <td>Left wheel</td>\n",
       "      <td>Silver</td>\n",
       "      <td>Black</td>\n",
       "      <td>KMHTC6AE3GU293912</td>\n",
       "      <td>1</td>\n",
       "      <td>For Sale</td>\n",
       "      <td>6300.0</td>\n",
       "    </tr>\n",
       "    <tr>\n",
       "      <th>3</th>\n",
       "      <td>3</td>\n",
       "      <td>HYUNDAI</td>\n",
       "      <td>Santa FE</td>\n",
       "      <td>Jeep</td>\n",
       "      <td>115459</td>\n",
       "      <td>2015</td>\n",
       "      <td>Automatic</td>\n",
       "      <td>4/5</td>\n",
       "      <td>Left wheel</td>\n",
       "      <td>Blue</td>\n",
       "      <td>Black</td>\n",
       "      <td>NaN</td>\n",
       "      <td>1</td>\n",
       "      <td>For Sale</td>\n",
       "      <td>14488.0</td>\n",
       "    </tr>\n",
       "    <tr>\n",
       "      <th>4</th>\n",
       "      <td>4</td>\n",
       "      <td>TOYOTA</td>\n",
       "      <td>CHR</td>\n",
       "      <td>Jeep</td>\n",
       "      <td>18950</td>\n",
       "      <td>2019</td>\n",
       "      <td>Automatic</td>\n",
       "      <td>4/5</td>\n",
       "      <td>Left wheel</td>\n",
       "      <td>Black</td>\n",
       "      <td>NaN</td>\n",
       "      <td>JTNKHMBX7K1030253</td>\n",
       "      <td>1</td>\n",
       "      <td>For Sale</td>\n",
       "      <td>5000.0</td>\n",
       "    </tr>\n",
       "  </tbody>\n",
       "</table>\n",
       "</div>"
      ],
      "text/plain": [
       "   row_ID vehicle_manufacturer vehicle_model vehicle_category  \\\n",
       "0       0               TOYOTA        Aqua s            Sedan   \n",
       "1       1        MERCEDES-BENZ         C 220            Sedan   \n",
       "2       2              HYUNDAI      Veloster        Hatchback   \n",
       "3       3              HYUNDAI      Santa FE             Jeep   \n",
       "4       4               TOYOTA           CHR             Jeep   \n",
       "\n",
       "   current_mileage  vehicle_year vehicle_gearbox_type doors_cnt  \\\n",
       "0           133000          2014            Automatic       4/5   \n",
       "1            24500          2010               Manual       4/5   \n",
       "2            31000          2016            Tiptronic       2/3   \n",
       "3           115459          2015            Automatic       4/5   \n",
       "4            18950          2019            Automatic       4/5   \n",
       "\n",
       "                  wheels vehicle_color vehicle_interior_color  \\\n",
       "0    Right-hand drive          Silver                  Black    \n",
       "1           Left wheel         Silver                  Black    \n",
       "2           Left wheel         Silver                  Black    \n",
       "3           Left wheel           Blue                  Black    \n",
       "4           Left wheel          Black                     NaN   \n",
       "\n",
       "               car_vin  car_leather_interior deal_type  final_price  \n",
       "0                  NaN                     0  For Sale       3650.0  \n",
       "1                  NaN                     0  For Sale       6800.0  \n",
       "2   KMHTC6AE3GU293912                      1  For Sale       6300.0  \n",
       "3                  NaN                     1  For Sale      14488.0  \n",
       "4   JTNKHMBX7K1030253                      1  For Sale       5000.0  "
      ]
     },
     "execution_count": 4,
     "metadata": {},
     "output_type": "execute_result"
    }
   ],
   "source": [
    "%%time\n",
    "\n",
    "train_data = pd.read_csv('../input/lightautomlcourse-hw1/train_data.csv')\n",
    "train_data.head()"
   ]
  },
  {
   "cell_type": "code",
   "execution_count": 5,
   "id": "22a991ae",
   "metadata": {
    "execution": {
     "iopub.execute_input": "2023-04-13T11:35:49.290424Z",
     "iopub.status.busy": "2023-04-13T11:35:49.289665Z",
     "iopub.status.idle": "2023-04-13T11:35:49.370676Z",
     "shell.execute_reply": "2023-04-13T11:35:49.369130Z"
    },
    "papermill": {
     "duration": 0.12197,
     "end_time": "2023-04-13T11:35:49.373686",
     "exception": false,
     "start_time": "2023-04-13T11:35:49.251716",
     "status": "completed"
    },
    "tags": []
   },
   "outputs": [
    {
     "data": {
      "text/html": [
       "<div>\n",
       "<style scoped>\n",
       "    .dataframe tbody tr th:only-of-type {\n",
       "        vertical-align: middle;\n",
       "    }\n",
       "\n",
       "    .dataframe tbody tr th {\n",
       "        vertical-align: top;\n",
       "    }\n",
       "\n",
       "    .dataframe thead th {\n",
       "        text-align: right;\n",
       "    }\n",
       "</style>\n",
       "<table border=\"1\" class=\"dataframe\">\n",
       "  <thead>\n",
       "    <tr style=\"text-align: right;\">\n",
       "      <th></th>\n",
       "      <th>row_ID</th>\n",
       "      <th>vehicle_manufacturer</th>\n",
       "      <th>vehicle_model</th>\n",
       "      <th>vehicle_category</th>\n",
       "      <th>current_mileage</th>\n",
       "      <th>vehicle_year</th>\n",
       "      <th>vehicle_gearbox_type</th>\n",
       "      <th>doors_cnt</th>\n",
       "      <th>wheels</th>\n",
       "      <th>vehicle_color</th>\n",
       "      <th>vehicle_interior_color</th>\n",
       "      <th>car_vin</th>\n",
       "      <th>car_leather_interior</th>\n",
       "      <th>deal_type</th>\n",
       "    </tr>\n",
       "  </thead>\n",
       "  <tbody>\n",
       "    <tr>\n",
       "      <th>0</th>\n",
       "      <td>35000</td>\n",
       "      <td>TOYOTA</td>\n",
       "      <td>Prius</td>\n",
       "      <td>Hatchback</td>\n",
       "      <td>323733</td>\n",
       "      <td>2012</td>\n",
       "      <td>Automatic</td>\n",
       "      <td>4/5</td>\n",
       "      <td>Left wheel</td>\n",
       "      <td>Grey</td>\n",
       "      <td>Black</td>\n",
       "      <td>JTDKN3DU6C5439638</td>\n",
       "      <td>1</td>\n",
       "      <td>For Sale</td>\n",
       "    </tr>\n",
       "    <tr>\n",
       "      <th>1</th>\n",
       "      <td>35001</td>\n",
       "      <td>HYUNDAI</td>\n",
       "      <td>Elantra</td>\n",
       "      <td>Sedan</td>\n",
       "      <td>112000</td>\n",
       "      <td>2013</td>\n",
       "      <td>Tiptronic</td>\n",
       "      <td>4/5</td>\n",
       "      <td>Left wheel</td>\n",
       "      <td>Grey</td>\n",
       "      <td>Black</td>\n",
       "      <td>SURATSHIA</td>\n",
       "      <td>1</td>\n",
       "      <td>For Sale</td>\n",
       "    </tr>\n",
       "    <tr>\n",
       "      <th>2</th>\n",
       "      <td>35002</td>\n",
       "      <td>LEXUS</td>\n",
       "      <td>NX 300</td>\n",
       "      <td>Jeep</td>\n",
       "      <td>16920</td>\n",
       "      <td>2018</td>\n",
       "      <td>Automatic</td>\n",
       "      <td>NaN</td>\n",
       "      <td>Left wheel</td>\n",
       "      <td>Brown</td>\n",
       "      <td>NaN</td>\n",
       "      <td>JTJYARBZ5J2104521</td>\n",
       "      <td>1</td>\n",
       "      <td>For Sale</td>\n",
       "    </tr>\n",
       "    <tr>\n",
       "      <th>3</th>\n",
       "      <td>35003</td>\n",
       "      <td>LEXUS</td>\n",
       "      <td>CT 200h</td>\n",
       "      <td>Hatchback</td>\n",
       "      <td>302742</td>\n",
       "      <td>2012</td>\n",
       "      <td>Automatic</td>\n",
       "      <td>4/5</td>\n",
       "      <td>Left wheel</td>\n",
       "      <td>White</td>\n",
       "      <td>NaN</td>\n",
       "      <td>JTHKD5BH4C2070945</td>\n",
       "      <td>1</td>\n",
       "      <td>For Sale</td>\n",
       "    </tr>\n",
       "    <tr>\n",
       "      <th>4</th>\n",
       "      <td>35004</td>\n",
       "      <td>TOYOTA</td>\n",
       "      <td>RAV 4</td>\n",
       "      <td>Jeep</td>\n",
       "      <td>1800</td>\n",
       "      <td>2002</td>\n",
       "      <td>Manual</td>\n",
       "      <td>4/5</td>\n",
       "      <td>Left wheel</td>\n",
       "      <td>Silver</td>\n",
       "      <td>Black</td>\n",
       "      <td>NaN</td>\n",
       "      <td>0</td>\n",
       "      <td>For Sale</td>\n",
       "    </tr>\n",
       "  </tbody>\n",
       "</table>\n",
       "</div>"
      ],
      "text/plain": [
       "   row_ID vehicle_manufacturer vehicle_model vehicle_category  \\\n",
       "0   35000               TOYOTA         Prius        Hatchback   \n",
       "1   35001              HYUNDAI       Elantra            Sedan   \n",
       "2   35002                LEXUS        NX 300             Jeep   \n",
       "3   35003                LEXUS       CT 200h        Hatchback   \n",
       "4   35004               TOYOTA         RAV 4             Jeep   \n",
       "\n",
       "   current_mileage  vehicle_year vehicle_gearbox_type doors_cnt  \\\n",
       "0           323733          2012            Automatic       4/5   \n",
       "1           112000          2013            Tiptronic       4/5   \n",
       "2            16920          2018            Automatic       NaN   \n",
       "3           302742          2012            Automatic       4/5   \n",
       "4             1800          2002               Manual       4/5   \n",
       "\n",
       "           wheels vehicle_color vehicle_interior_color              car_vin  \\\n",
       "0    Left wheel           Grey                  Black    JTDKN3DU6C5439638    \n",
       "1    Left wheel           Grey                  Black            SURATSHIA    \n",
       "2    Left wheel          Brown                     NaN   JTJYARBZ5J2104521    \n",
       "3    Left wheel          White                     NaN   JTHKD5BH4C2070945    \n",
       "4    Left wheel         Silver                  Black                   NaN   \n",
       "\n",
       "   car_leather_interior deal_type  \n",
       "0                     1  For Sale  \n",
       "1                     1  For Sale  \n",
       "2                     1  For Sale  \n",
       "3                     1  For Sale  \n",
       "4                     0  For Sale  "
      ]
     },
     "execution_count": 5,
     "metadata": {},
     "output_type": "execute_result"
    }
   ],
   "source": [
    "test_data = pd.read_csv('../input/lightautomlcourse-hw1/test_data.csv')\n",
    "test_data.head()"
   ]
  },
  {
   "cell_type": "code",
   "execution_count": 6,
   "id": "fb04f40d",
   "metadata": {
    "execution": {
     "iopub.execute_input": "2023-04-13T11:35:49.449038Z",
     "iopub.status.busy": "2023-04-13T11:35:49.446685Z",
     "iopub.status.idle": "2023-04-13T11:35:49.477319Z",
     "shell.execute_reply": "2023-04-13T11:35:49.475963Z"
    },
    "papermill": {
     "duration": 0.071365,
     "end_time": "2023-04-13T11:35:49.479988",
     "exception": false,
     "start_time": "2023-04-13T11:35:49.408623",
     "status": "completed"
    },
    "tags": []
   },
   "outputs": [
    {
     "data": {
      "text/html": [
       "<div>\n",
       "<style scoped>\n",
       "    .dataframe tbody tr th:only-of-type {\n",
       "        vertical-align: middle;\n",
       "    }\n",
       "\n",
       "    .dataframe tbody tr th {\n",
       "        vertical-align: top;\n",
       "    }\n",
       "\n",
       "    .dataframe thead th {\n",
       "        text-align: right;\n",
       "    }\n",
       "</style>\n",
       "<table border=\"1\" class=\"dataframe\">\n",
       "  <thead>\n",
       "    <tr style=\"text-align: right;\">\n",
       "      <th></th>\n",
       "      <th>row_ID</th>\n",
       "      <th>final_price</th>\n",
       "    </tr>\n",
       "  </thead>\n",
       "  <tbody>\n",
       "    <tr>\n",
       "      <th>0</th>\n",
       "      <td>35000</td>\n",
       "      <td>0</td>\n",
       "    </tr>\n",
       "    <tr>\n",
       "      <th>1</th>\n",
       "      <td>35001</td>\n",
       "      <td>0</td>\n",
       "    </tr>\n",
       "    <tr>\n",
       "      <th>2</th>\n",
       "      <td>35002</td>\n",
       "      <td>0</td>\n",
       "    </tr>\n",
       "    <tr>\n",
       "      <th>3</th>\n",
       "      <td>35003</td>\n",
       "      <td>0</td>\n",
       "    </tr>\n",
       "    <tr>\n",
       "      <th>4</th>\n",
       "      <td>35004</td>\n",
       "      <td>0</td>\n",
       "    </tr>\n",
       "  </tbody>\n",
       "</table>\n",
       "</div>"
      ],
      "text/plain": [
       "   row_ID  final_price\n",
       "0   35000            0\n",
       "1   35001            0\n",
       "2   35002            0\n",
       "3   35003            0\n",
       "4   35004            0"
      ]
     },
     "execution_count": 6,
     "metadata": {},
     "output_type": "execute_result"
    }
   ],
   "source": [
    "submission = pd.read_csv('../input/lightautomlcourse-hw1/sample_submission.csv')\n",
    "submission.head()"
   ]
  },
  {
   "cell_type": "markdown",
   "id": "ad40b146",
   "metadata": {
    "papermill": {
     "duration": 0.03422,
     "end_time": "2023-04-13T11:35:49.549467",
     "exception": false,
     "start_time": "2023-04-13T11:35:49.515247",
     "status": "completed"
    },
    "tags": []
   },
   "source": [
    "# Step 0.4. Some user feature preparation "
   ]
  },
  {
   "cell_type": "markdown",
   "id": "4c1b48e5",
   "metadata": {
    "papermill": {
     "duration": 0.034625,
     "end_time": "2023-04-13T11:35:49.619340",
     "exception": false,
     "start_time": "2023-04-13T11:35:49.584715",
     "status": "completed"
    },
    "tags": []
   },
   "source": [
    "Be creative :)"
   ]
  },
  {
   "cell_type": "code",
   "execution_count": 7,
   "id": "efab9e96",
   "metadata": {
    "execution": {
     "iopub.execute_input": "2023-04-13T11:35:49.691891Z",
     "iopub.status.busy": "2023-04-13T11:35:49.691403Z",
     "iopub.status.idle": "2023-04-13T11:35:49.699730Z",
     "shell.execute_reply": "2023-04-13T11:35:49.697926Z"
    },
    "papermill": {
     "duration": 0.05003,
     "end_time": "2023-04-13T11:35:49.704289",
     "exception": false,
     "start_time": "2023-04-13T11:35:49.654259",
     "status": "completed"
    },
    "tags": []
   },
   "outputs": [
    {
     "name": "stdout",
     "output_type": "stream",
     "text": [
      "CPU times: user 17 µs, sys: 3 µs, total: 20 µs\n",
      "Wall time: 25.5 µs\n"
     ]
    }
   ],
   "source": [
    "%%time\n",
    "\n",
    "def create_expert_feats(data):\n",
    "    pass\n",
    "\n",
    "create_expert_feats(train_data)\n",
    "create_expert_feats(test_data)"
   ]
  },
  {
   "cell_type": "code",
   "execution_count": 8,
   "id": "bd1f8b33",
   "metadata": {
    "execution": {
     "iopub.execute_input": "2023-04-13T11:35:49.844591Z",
     "iopub.status.busy": "2023-04-13T11:35:49.844052Z",
     "iopub.status.idle": "2023-04-13T11:35:49.862917Z",
     "shell.execute_reply": "2023-04-13T11:35:49.861646Z"
    },
    "papermill": {
     "duration": 0.091184,
     "end_time": "2023-04-13T11:35:49.865776",
     "exception": false,
     "start_time": "2023-04-13T11:35:49.774592",
     "status": "completed"
    },
    "tags": []
   },
   "outputs": [
    {
     "data": {
      "text/html": [
       "<div>\n",
       "<style scoped>\n",
       "    .dataframe tbody tr th:only-of-type {\n",
       "        vertical-align: middle;\n",
       "    }\n",
       "\n",
       "    .dataframe tbody tr th {\n",
       "        vertical-align: top;\n",
       "    }\n",
       "\n",
       "    .dataframe thead th {\n",
       "        text-align: right;\n",
       "    }\n",
       "</style>\n",
       "<table border=\"1\" class=\"dataframe\">\n",
       "  <thead>\n",
       "    <tr style=\"text-align: right;\">\n",
       "      <th></th>\n",
       "      <th>row_ID</th>\n",
       "      <th>vehicle_manufacturer</th>\n",
       "      <th>vehicle_model</th>\n",
       "      <th>vehicle_category</th>\n",
       "      <th>current_mileage</th>\n",
       "      <th>vehicle_year</th>\n",
       "      <th>vehicle_gearbox_type</th>\n",
       "      <th>doors_cnt</th>\n",
       "      <th>wheels</th>\n",
       "      <th>vehicle_color</th>\n",
       "      <th>vehicle_interior_color</th>\n",
       "      <th>car_vin</th>\n",
       "      <th>car_leather_interior</th>\n",
       "      <th>deal_type</th>\n",
       "      <th>final_price</th>\n",
       "    </tr>\n",
       "  </thead>\n",
       "  <tbody>\n",
       "    <tr>\n",
       "      <th>0</th>\n",
       "      <td>0</td>\n",
       "      <td>TOYOTA</td>\n",
       "      <td>Aqua s</td>\n",
       "      <td>Sedan</td>\n",
       "      <td>133000</td>\n",
       "      <td>2014</td>\n",
       "      <td>Automatic</td>\n",
       "      <td>4/5</td>\n",
       "      <td>Right-hand drive</td>\n",
       "      <td>Silver</td>\n",
       "      <td>Black</td>\n",
       "      <td>NaN</td>\n",
       "      <td>0</td>\n",
       "      <td>For Sale</td>\n",
       "      <td>3650.0</td>\n",
       "    </tr>\n",
       "    <tr>\n",
       "      <th>1</th>\n",
       "      <td>1</td>\n",
       "      <td>MERCEDES-BENZ</td>\n",
       "      <td>C 220</td>\n",
       "      <td>Sedan</td>\n",
       "      <td>24500</td>\n",
       "      <td>2010</td>\n",
       "      <td>Manual</td>\n",
       "      <td>4/5</td>\n",
       "      <td>Left wheel</td>\n",
       "      <td>Silver</td>\n",
       "      <td>Black</td>\n",
       "      <td>NaN</td>\n",
       "      <td>0</td>\n",
       "      <td>For Sale</td>\n",
       "      <td>6800.0</td>\n",
       "    </tr>\n",
       "    <tr>\n",
       "      <th>2</th>\n",
       "      <td>2</td>\n",
       "      <td>HYUNDAI</td>\n",
       "      <td>Veloster</td>\n",
       "      <td>Hatchback</td>\n",
       "      <td>31000</td>\n",
       "      <td>2016</td>\n",
       "      <td>Tiptronic</td>\n",
       "      <td>2/3</td>\n",
       "      <td>Left wheel</td>\n",
       "      <td>Silver</td>\n",
       "      <td>Black</td>\n",
       "      <td>KMHTC6AE3GU293912</td>\n",
       "      <td>1</td>\n",
       "      <td>For Sale</td>\n",
       "      <td>6300.0</td>\n",
       "    </tr>\n",
       "    <tr>\n",
       "      <th>3</th>\n",
       "      <td>3</td>\n",
       "      <td>HYUNDAI</td>\n",
       "      <td>Santa FE</td>\n",
       "      <td>Jeep</td>\n",
       "      <td>115459</td>\n",
       "      <td>2015</td>\n",
       "      <td>Automatic</td>\n",
       "      <td>4/5</td>\n",
       "      <td>Left wheel</td>\n",
       "      <td>Blue</td>\n",
       "      <td>Black</td>\n",
       "      <td>NaN</td>\n",
       "      <td>1</td>\n",
       "      <td>For Sale</td>\n",
       "      <td>14488.0</td>\n",
       "    </tr>\n",
       "    <tr>\n",
       "      <th>4</th>\n",
       "      <td>4</td>\n",
       "      <td>TOYOTA</td>\n",
       "      <td>CHR</td>\n",
       "      <td>Jeep</td>\n",
       "      <td>18950</td>\n",
       "      <td>2019</td>\n",
       "      <td>Automatic</td>\n",
       "      <td>4/5</td>\n",
       "      <td>Left wheel</td>\n",
       "      <td>Black</td>\n",
       "      <td>NaN</td>\n",
       "      <td>JTNKHMBX7K1030253</td>\n",
       "      <td>1</td>\n",
       "      <td>For Sale</td>\n",
       "      <td>5000.0</td>\n",
       "    </tr>\n",
       "  </tbody>\n",
       "</table>\n",
       "</div>"
      ],
      "text/plain": [
       "   row_ID vehicle_manufacturer vehicle_model vehicle_category  \\\n",
       "0       0               TOYOTA        Aqua s            Sedan   \n",
       "1       1        MERCEDES-BENZ         C 220            Sedan   \n",
       "2       2              HYUNDAI      Veloster        Hatchback   \n",
       "3       3              HYUNDAI      Santa FE             Jeep   \n",
       "4       4               TOYOTA           CHR             Jeep   \n",
       "\n",
       "   current_mileage  vehicle_year vehicle_gearbox_type doors_cnt  \\\n",
       "0           133000          2014            Automatic       4/5   \n",
       "1            24500          2010               Manual       4/5   \n",
       "2            31000          2016            Tiptronic       2/3   \n",
       "3           115459          2015            Automatic       4/5   \n",
       "4            18950          2019            Automatic       4/5   \n",
       "\n",
       "                  wheels vehicle_color vehicle_interior_color  \\\n",
       "0    Right-hand drive          Silver                  Black    \n",
       "1           Left wheel         Silver                  Black    \n",
       "2           Left wheel         Silver                  Black    \n",
       "3           Left wheel           Blue                  Black    \n",
       "4           Left wheel          Black                     NaN   \n",
       "\n",
       "               car_vin  car_leather_interior deal_type  final_price  \n",
       "0                  NaN                     0  For Sale       3650.0  \n",
       "1                  NaN                     0  For Sale       6800.0  \n",
       "2   KMHTC6AE3GU293912                      1  For Sale       6300.0  \n",
       "3                  NaN                     1  For Sale      14488.0  \n",
       "4   JTNKHMBX7K1030253                      1  For Sale       5000.0  "
      ]
     },
     "execution_count": 8,
     "metadata": {},
     "output_type": "execute_result"
    }
   ],
   "source": [
    "train_data.head()"
   ]
  },
  {
   "cell_type": "markdown",
   "id": "f504f297",
   "metadata": {
    "papermill": {
     "duration": 0.034166,
     "end_time": "2023-04-13T11:35:49.970902",
     "exception": false,
     "start_time": "2023-04-13T11:35:49.936736",
     "status": "completed"
    },
    "tags": []
   },
   "source": [
    "# ========= AutoML preset usage =========\n",
    "\n",
    "\n",
    "## Step 1. Create Task"
   ]
  },
  {
   "cell_type": "code",
   "execution_count": 9,
   "id": "9ff24d94",
   "metadata": {
    "execution": {
     "iopub.execute_input": "2023-04-13T11:35:50.043581Z",
     "iopub.status.busy": "2023-04-13T11:35:50.042611Z",
     "iopub.status.idle": "2023-04-13T11:35:50.052457Z",
     "shell.execute_reply": "2023-04-13T11:35:50.050542Z"
    },
    "papermill": {
     "duration": 0.050384,
     "end_time": "2023-04-13T11:35:50.055545",
     "exception": false,
     "start_time": "2023-04-13T11:35:50.005161",
     "status": "completed"
    },
    "tags": []
   },
   "outputs": [
    {
     "name": "stdout",
     "output_type": "stream",
     "text": [
      "CPU times: user 1.86 ms, sys: 0 ns, total: 1.86 ms\n",
      "Wall time: 1.92 ms\n"
     ]
    }
   ],
   "source": [
    "%%time\n",
    "\n",
    "task = Task('reg', )"
   ]
  },
  {
   "cell_type": "markdown",
   "id": "0c9b2df2",
   "metadata": {
    "papermill": {
     "duration": 0.033758,
     "end_time": "2023-04-13T11:35:50.123698",
     "exception": false,
     "start_time": "2023-04-13T11:35:50.089940",
     "status": "completed"
    },
    "tags": []
   },
   "source": [
    "## Step 2. Setup columns roles"
   ]
  },
  {
   "cell_type": "markdown",
   "id": "bf04560a",
   "metadata": {
    "papermill": {
     "duration": 0.033584,
     "end_time": "2023-04-13T11:35:50.191185",
     "exception": false,
     "start_time": "2023-04-13T11:35:50.157601",
     "status": "completed"
    },
    "tags": []
   },
   "source": [
    "Roles setup here set target column and base date, which is used to calculate date differences:"
   ]
  },
  {
   "cell_type": "code",
   "execution_count": 10,
   "id": "1e82f288",
   "metadata": {
    "execution": {
     "iopub.execute_input": "2023-04-13T11:35:50.262326Z",
     "iopub.status.busy": "2023-04-13T11:35:50.261382Z",
     "iopub.status.idle": "2023-04-13T11:35:50.268891Z",
     "shell.execute_reply": "2023-04-13T11:35:50.267670Z"
    },
    "papermill": {
     "duration": 0.046441,
     "end_time": "2023-04-13T11:35:50.271351",
     "exception": false,
     "start_time": "2023-04-13T11:35:50.224910",
     "status": "completed"
    },
    "tags": []
   },
   "outputs": [
    {
     "name": "stdout",
     "output_type": "stream",
     "text": [
      "CPU times: user 4 µs, sys: 1 µs, total: 5 µs\n",
      "Wall time: 9.78 µs\n"
     ]
    }
   ],
   "source": [
    "%%time\n",
    "\n",
    "roles = {'target': TARGET_NAME,\n",
    "         'drop': ['row_ID'] # to drop or not to drop?\n",
    "         }"
   ]
  },
  {
   "cell_type": "markdown",
   "id": "85a34970",
   "metadata": {
    "papermill": {
     "duration": 0.033664,
     "end_time": "2023-04-13T11:35:50.339219",
     "exception": false,
     "start_time": "2023-04-13T11:35:50.305555",
     "status": "completed"
    },
    "tags": []
   },
   "source": [
    "## Step 3. Create AutoML from preset"
   ]
  },
  {
   "cell_type": "markdown",
   "id": "6a47a83e",
   "metadata": {
    "papermill": {
     "duration": 0.033477,
     "end_time": "2023-04-13T11:35:50.407538",
     "exception": false,
     "start_time": "2023-04-13T11:35:50.374061",
     "status": "completed"
    },
    "tags": []
   },
   "source": [
    "To create AutoML model here we use `TabularAutoML` preset, which looks like:\n",
    "\n",
    "![TabularAutoML preset pipeline](https://github.com/sberbank-ai-lab/LightAutoML/raw/master/imgs/tutorial_2_pipeline.png)\n",
    "\n",
    "All params we set above can be send inside preset to change its configuration:"
   ]
  },
  {
   "cell_type": "code",
   "execution_count": 11,
   "id": "2265dda4",
   "metadata": {
    "_kg_hide-output": true,
    "execution": {
     "iopub.execute_input": "2023-04-13T11:35:50.479449Z",
     "iopub.status.busy": "2023-04-13T11:35:50.478501Z",
     "iopub.status.idle": "2023-04-13T11:41:59.822426Z",
     "shell.execute_reply": "2023-04-13T11:41:59.820586Z"
    },
    "papermill": {
     "duration": 369.420992,
     "end_time": "2023-04-13T11:41:59.862507",
     "exception": false,
     "start_time": "2023-04-13T11:35:50.441515",
     "status": "completed"
    },
    "scrolled": true,
    "tags": []
   },
   "outputs": [
    {
     "name": "stderr",
     "output_type": "stream",
     "text": [
      "INFO:root:oof_pred:\n",
      "array([[ 4559.6064],\n",
      "       [ 6740.676 ],\n",
      "       [ 8503.059 ],\n",
      "       ...,\n",
      "       [12520.437 ],\n",
      "       [10395.836 ],\n",
      "       [ 7207.672 ]], dtype=float32)\n",
      "Shape = (35000, 1)\n"
     ]
    },
    {
     "name": "stdout",
     "output_type": "stream",
     "text": [
      "CPU times: user 21min 23s, sys: 1min 21s, total: 22min 44s\n",
      "Wall time: 6min 9s\n"
     ]
    }
   ],
   "source": [
    "%%time \n",
    "\n",
    "automl = TabularAutoML(task = task, \n",
    "                       timeout = TIMEOUT,\n",
    "                       cpu_limit = N_THREADS,\n",
    "                       reader_params = {'n_jobs': N_THREADS, 'cv': N_FOLDS, 'random_state': RANDOM_STATE},\n",
    "                      )\n",
    "oof_pred = automl.fit_predict(train_data, roles = roles)\n",
    "logging.info('oof_pred:\\n{}\\nShape = {}'.format(oof_pred, oof_pred.shape))"
   ]
  },
  {
   "cell_type": "code",
   "execution_count": 12,
   "id": "aad0e06e",
   "metadata": {
    "execution": {
     "iopub.execute_input": "2023-04-13T11:41:59.933653Z",
     "iopub.status.busy": "2023-04-13T11:41:59.931956Z",
     "iopub.status.idle": "2023-04-13T11:42:00.474862Z",
     "shell.execute_reply": "2023-04-13T11:42:00.473452Z"
    },
    "papermill": {
     "duration": 0.582262,
     "end_time": "2023-04-13T11:42:00.478489",
     "exception": false,
     "start_time": "2023-04-13T11:41:59.896227",
     "status": "completed"
    },
    "tags": []
   },
   "outputs": [
    {
     "name": "stdout",
     "output_type": "stream",
     "text": [
      "CPU times: user 162 ms, sys: 68 ms, total: 230 ms\n",
      "Wall time: 143 ms\n"
     ]
    },
    {
     "data": {
      "text/plain": [
       "<AxesSubplot:xlabel='Feature'>"
      ]
     },
     "execution_count": 12,
     "metadata": {},
     "output_type": "execute_result"
    },
    {
     "data": {
      "image/png": "[encoded data removed]",
      "text/plain": [
       "<Figure size 2000x1000 with 1 Axes>"
      ]
     },
     "metadata": {},
     "output_type": "display_data"
    }
   ],
   "source": [
    "%%time\n",
    "\n",
    "# Fast feature importances calculation\n",
    "fast_fi = automl.get_feature_scores('fast')\n",
    "fast_fi.set_index('Feature')['Importance'].plot.bar(figsize = (20, 10), grid = True)"
   ]
  },
  {
   "cell_type": "markdown",
   "id": "5b551182",
   "metadata": {
    "papermill": {
     "duration": 0.036353,
     "end_time": "2023-04-13T11:42:00.550985",
     "exception": false,
     "start_time": "2023-04-13T11:42:00.514632",
     "status": "completed"
    },
    "tags": []
   },
   "source": [
    "## Step 4. Predict to test data and check scores"
   ]
  },
  {
   "cell_type": "code",
   "execution_count": 13,
   "id": "64675587",
   "metadata": {
    "execution": {
     "iopub.execute_input": "2023-04-13T11:42:00.623346Z",
     "iopub.status.busy": "2023-04-13T11:42:00.622807Z",
     "iopub.status.idle": "2023-04-13T11:42:01.649007Z",
     "shell.execute_reply": "2023-04-13T11:42:01.647412Z"
    },
    "papermill": {
     "duration": 1.066304,
     "end_time": "2023-04-13T11:42:01.652208",
     "exception": false,
     "start_time": "2023-04-13T11:42:00.585904",
     "status": "completed"
    },
    "tags": []
   },
   "outputs": [
    {
     "name": "stderr",
     "output_type": "stream",
     "text": [
      "INFO:root:Prediction for test data:\n",
      "array([[ 3831.561 ],\n",
      "       [ 7154.4194],\n",
      "       [ 6353.3403],\n",
      "       ...,\n",
      "       [10449.239 ],\n",
      "       [ 5028.6543],\n",
      "       [ 7293.8564]], dtype=float32)\n",
      "Shape = (10697, 1)\n",
      "INFO:root:Check scores...\n",
      "INFO:root:OOF score: 3760.3261368013655\n"
     ]
    },
    {
     "name": "stdout",
     "output_type": "stream",
     "text": [
      "CPU times: user 1.5 s, sys: 32.2 ms, total: 1.54 s\n",
      "Wall time: 1.02 s\n"
     ]
    }
   ],
   "source": [
    "%%time\n",
    "\n",
    "test_pred = automl.predict(test_data)\n",
    "logging.info('Prediction for test data:\\n{}\\nShape = {}'\n",
    "              .format(test_pred, test_pred.shape))\n",
    "\n",
    "logging.info('Check scores...')\n",
    "logging.info('OOF score: {}'.format(mean_absolute_error(train_data[TARGET_NAME].values, oof_pred.data[:, 0])))"
   ]
  },
  {
   "cell_type": "markdown",
   "id": "7d507f92",
   "metadata": {
    "papermill": {
     "duration": 0.035047,
     "end_time": "2023-04-13T11:42:01.723037",
     "exception": false,
     "start_time": "2023-04-13T11:42:01.687990",
     "status": "completed"
    },
    "tags": []
   },
   "source": [
    "## Step 5. Generate submission"
   ]
  },
  {
   "cell_type": "code",
   "execution_count": 14,
   "id": "1f62d52f",
   "metadata": {
    "execution": {
     "iopub.execute_input": "2023-04-13T11:42:01.797262Z",
     "iopub.status.busy": "2023-04-13T11:42:01.795512Z",
     "iopub.status.idle": "2023-04-13T11:42:01.809602Z",
     "shell.execute_reply": "2023-04-13T11:42:01.808238Z"
    },
    "papermill": {
     "duration": 0.053903,
     "end_time": "2023-04-13T11:42:01.812128",
     "exception": false,
     "start_time": "2023-04-13T11:42:01.758225",
     "status": "completed"
    },
    "scrolled": true,
    "tags": []
   },
   "outputs": [
    {
     "data": {
      "text/html": [
       "<div>\n",
       "<style scoped>\n",
       "    .dataframe tbody tr th:only-of-type {\n",
       "        vertical-align: middle;\n",
       "    }\n",
       "\n",
       "    .dataframe tbody tr th {\n",
       "        vertical-align: top;\n",
       "    }\n",
       "\n",
       "    .dataframe thead th {\n",
       "        text-align: right;\n",
       "    }\n",
       "</style>\n",
       "<table border=\"1\" class=\"dataframe\">\n",
       "  <thead>\n",
       "    <tr style=\"text-align: right;\">\n",
       "      <th></th>\n",
       "      <th>row_ID</th>\n",
       "      <th>final_price</th>\n",
       "    </tr>\n",
       "  </thead>\n",
       "  <tbody>\n",
       "    <tr>\n",
       "      <th>0</th>\n",
       "      <td>35000</td>\n",
       "      <td>3831.561035</td>\n",
       "    </tr>\n",
       "    <tr>\n",
       "      <th>1</th>\n",
       "      <td>35001</td>\n",
       "      <td>7154.419434</td>\n",
       "    </tr>\n",
       "    <tr>\n",
       "      <th>2</th>\n",
       "      <td>35002</td>\n",
       "      <td>6353.340332</td>\n",
       "    </tr>\n",
       "    <tr>\n",
       "      <th>3</th>\n",
       "      <td>35003</td>\n",
       "      <td>4003.982422</td>\n",
       "    </tr>\n",
       "    <tr>\n",
       "      <th>4</th>\n",
       "      <td>35004</td>\n",
       "      <td>6815.704590</td>\n",
       "    </tr>\n",
       "  </tbody>\n",
       "</table>\n",
       "</div>"
      ],
      "text/plain": [
       "   row_ID  final_price\n",
       "0   35000  3831.561035\n",
       "1   35001  7154.419434\n",
       "2   35002  6353.340332\n",
       "3   35003  4003.982422\n",
       "4   35004  6815.704590"
      ]
     },
     "execution_count": 14,
     "metadata": {},
     "output_type": "execute_result"
    }
   ],
   "source": [
    "submission[TARGET_NAME] = test_pred.data[:, 0]\n",
    "submission.head()"
   ]
  },
  {
   "cell_type": "code",
   "execution_count": 15,
   "id": "aabc8d58",
   "metadata": {
    "execution": {
     "iopub.execute_input": "2023-04-13T11:42:01.886131Z",
     "iopub.status.busy": "2023-04-13T11:42:01.884967Z",
     "iopub.status.idle": "2023-04-13T11:42:01.913927Z",
     "shell.execute_reply": "2023-04-13T11:42:01.912882Z"
    },
    "papermill": {
     "duration": 0.068991,
     "end_time": "2023-04-13T11:42:01.916885",
     "exception": false,
     "start_time": "2023-04-13T11:42:01.847894",
     "status": "completed"
    },
    "tags": []
   },
   "outputs": [],
   "source": [
    "submission.to_csv('lightautoml_sample_submission.csv', index = False)"
   ]
  },
  {
   "cell_type": "code",
   "execution_count": null,
   "id": "3483b498",
   "metadata": {
    "papermill": {
     "duration": 0.036552,
     "end_time": "2023-04-13T11:42:01.989857",
     "exception": false,
     "start_time": "2023-04-13T11:42:01.953305",
     "status": "completed"
    },
    "tags": []
   },
   "outputs": [],
   "source": []
  }
 ],
 "metadata": {
  "kernelspec": {
   "display_name": "Python 3",
   "language": "python",
   "name": "python3"
  },
  "language_info": {
   "codemirror_mode": {
    "name": "ipython",
    "version": 3
   },
   "file_extension": ".py",
   "mimetype": "text/x-python",
   "name": "python",
   "nbconvert_exporter": "python",
   "pygments_lexer": "ipython3",
   "version": "3.7.12"
  },
  "papermill": {
   "default_parameters": {},
   "duration": 486.62146,
   "end_time": "2023-04-13T11:42:04.653002",
   "environment_variables": {},
   "exception": null,
   "input_path": "__notebook__.ipynb",
   "output_path": "__notebook__.ipynb",
   "parameters": {},
   "start_time": "2023-04-13T11:33:58.031542",
   "version": "2.4.0"
  }
 },
 "nbformat": 4,
 "nbformat_minor": 5
}
